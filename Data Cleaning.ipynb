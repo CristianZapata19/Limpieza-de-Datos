{
 "cells": [
  {
   "cell_type": "markdown",
   "id": "ee922dfe",
   "metadata": {},
   "source": [
    "# Data Cleaning\n",
    "\n",
    "**Autor:** Cristian Andrés Zapata Arenas  \n",
    "**Objetivo:** transformar los datos crudos en una fuente confiable para la extracción de insights profundos, eliminando inconsistencias, duplicados y datos faltantes."
   ]
  },
  {
   "cell_type": "markdown",
   "id": "a9e9f36c",
   "metadata": {},
   "source": [
    "La tercera entrega se centrará en la **limpieza y transformación de datos**, la fase más crítica para garantizar la fiabilidad de nuestro análisis. Utilizando **Pandas** y las conclusiones obtenidas del EDA, abordaremos los desafíos identificados: imputaremos valores faltantes, corregiremos inconsistencias en el formato de las variables categóricas y estandarizaremos las unidades. Nuestro objetivo es refinar el *dataset* de estilo de vida y sueño, dejándolo **pulido, estructurado y listo** para la fase final de modelado predictivo, asegurando que cada *insight* se base en datos de máxima calidad."
   ]
  },
  {
   "cell_type": "markdown",
   "id": "dcc2d8c3",
   "metadata": {},
   "source": [
    "## Limpieza Transversal (Duplicados y Nombres)"
   ]
  },
  {
   "cell_type": "markdown",
   "id": "59db632b",
   "metadata": {},
   "source": [
    "### Problema # 1: Eliminación de registros duplicados"
   ]
  },
  {
   "cell_type": "markdown",
   "id": "f50e8550",
   "metadata": {},
   "source": [
    "Se eliminan las filas que son réplicas exactas en todas sus columnas. Esto asegura que cada observación sea única y evita sesgos en el análisis estadístico.\n",
    "\n"
   ]
  },
  {
   "cell_type": "code",
   "execution_count": 1,
   "id": "6eb0a9f2",
   "metadata": {},
   "outputs": [
    {
     "name": "stdout",
     "output_type": "stream",
     "text": [
      "\n",
      "--- 1. Eliminación de Registros Duplicados ---\n",
      "Se encontraron y eliminaron 242 filas duplicadas. Filas restantes: 132\n"
     ]
    }
   ],
   "source": [
    "import pandas as pd # type: ignore\n",
    "\n",
    "# Se carga el archivo en formato CSV\n",
    "data = pd.read_csv('C:/Users/crisz/Downloads/Sleep_health_and_lifestyle_dataset.csv',\n",
    "                   index_col=\"Person ID\")\n",
    "\n",
    "# Asignamos el DataFrame a una variable descriptiva.\n",
    "dfLifestyle = data\n",
    "    \n",
    "# 1.3. Problema #1: Eliminación de Registros Duplicados\n",
    "print(\"\\n--- 1. Eliminación de Registros Duplicados ---\")\n",
    "\n",
    "# Almacenar el conteo inicial.\n",
    "num_filas_antes = len(dfLifestyle)\n",
    "\n",
    "# Se eliminan filas idénticas en todas las columnas, manteniendo la primera aparición.\n",
    "dfLifestyle.drop_duplicates(inplace=True)\n",
    "\n",
    "# Reporte de la operación.\n",
    "num_duplicados_eliminados = num_filas_antes - len(dfLifestyle)\n",
    "print(f\"Se encontraron y eliminaron {num_duplicados_eliminados} filas duplicadas. Filas restantes: {len(dfLifestyle)}\")"
   ]
  },
  {
   "cell_type": "markdown",
   "id": "b8586a4b",
   "metadata": {},
   "source": [
    "### Problema # 2: Estandarización de nombres y columnas"
   ]
  },
  {
   "cell_type": "markdown",
   "id": "029d4e51",
   "metadata": {},
   "source": [
    "Se abordan las problemáticas de nomenclatura y el formato de datos compuestos para preparar las variables. Se traduce y se aplica el formato snake_case a todos los nombres de columna para facilitar la programación y la legibilidad."
   ]
  },
  {
   "cell_type": "code",
   "execution_count": 2,
   "id": "684e8b44",
   "metadata": {},
   "outputs": [
    {
     "name": "stdout",
     "output_type": "stream",
     "text": [
      "\n",
      "--- 2. Estandarización de Nombres de Columnas ---\n",
      "Nombres de columnas estandarizados a 'snake_case' y traducidos.\n"
     ]
    }
   ],
   "source": [
    "# Problema #2: Estandarización y Traducción de Nombres\n",
    "print(\"\\n--- 2. Estandarización de Nombres de Columnas ---\")\n",
    "\n",
    "# Diccionario de mapeo de nombres.\n",
    "mapeo_nombres = {\n",
    "    'Gender': 'genero', 'Age': 'edad', 'Occupation': 'ocupacion',\n",
    "    'Sleep Duration': 'duracion_sueno_horas', 'Quality of Sleep': 'calidad_sueno_escala_1_10',\n",
    "    'Physical Activity Level': 'actividad_fisica_minutos_dia', 'Stress Level': 'nivel_estres_escala_1_10',\n",
    "    'BMI Category': 'categoria_imc', 'Blood Pressure': 'presion_sanguinea_sistolica_diastolica',\n",
    "    'Heart Rate': 'ritmo_cardiaco_bpm', 'Daily Steps': 'pasos_diarios', 'Sleep Disorder': 'trastorno_sueno'\n",
    "}\n",
    "\n",
    "dfLifestyle.rename(columns=mapeo_nombres, inplace=True)\n",
    "print(\"Nombres de columnas estandarizados a 'snake_case' y traducidos.\")"
   ]
  },
  {
   "cell_type": "markdown",
   "id": "da7960c9",
   "metadata": {},
   "source": [
    "### Problema # 3: Separación de la Columna Compuesta (presion_sanguinea...)"
   ]
  },
  {
   "cell_type": "markdown",
   "id": "2bf65514",
   "metadata": {},
   "source": [
    "La columna de presión, con formato sistólica/diastólica, se divide en dos columnas numéricas para permitir cálculos estadísticos."
   ]
  },
  {
   "cell_type": "code",
   "execution_count": 3,
   "id": "edee97ff",
   "metadata": {},
   "outputs": [
    {
     "name": "stdout",
     "output_type": "stream",
     "text": [
      "\n",
      "--- 3. Separación de la Columna Compuesta de Presión Sanguínea ---\n",
      "Columna de Presión Sanguínea dividida y convertida a tipo entero.\n"
     ]
    }
   ],
   "source": [
    "# Problema #3: Separación de Presión Sanguínea\n",
    "print(\"\\n--- 3. Separación de la Columna Compuesta de Presión Sanguínea ---\")\n",
    "\n",
    "columna_compuesta = 'presion_sanguinea_sistolica_diastolica'\n",
    "\n",
    "# División de la cadena por el caracter '/'.\n",
    "bp_series = dfLifestyle[columna_compuesta].str.split('/', expand=True)\n",
    "\n",
    "# Creación de las nuevas columnas y conversión a tipo entero (`int`).\n",
    "dfLifestyle['presion_sistolica'] = bp_series[0].astype(int)\n",
    "dfLifestyle['presion_diastolica'] = bp_series[1].astype(int)\n",
    "\n",
    "# Eliminación de la columna original.\n",
    "dfLifestyle.drop(columna_compuesta, axis=1, inplace=True)\n",
    "\n",
    "print(\"Columna de Presión Sanguínea dividida y convertida a tipo entero.\")"
   ]
  },
  {
   "cell_type": "markdown",
   "id": "794c0827",
   "metadata": {},
   "source": [
    "## Limpieza de Valores categóricos y numéricos"
   ]
  },
  {
   "cell_type": "markdown",
   "id": "9a054a5c",
   "metadata": {},
   "source": [
    "### Problema # 4: Tratamiento de Datos Faltantes (trastorno_sueno)"
   ]
  },
  {
   "cell_type": "markdown",
   "id": "f42db9f8",
   "metadata": {},
   "source": [
    "Se imputan los valores nulos (NaN) en trastorno_sueno con la categoría None (Ninguno), ya que la ausencia de un registro de trastorno implica su inexistencia en la observación."
   ]
  },
  {
   "cell_type": "code",
   "execution_count": 5,
   "id": "f9cfe727",
   "metadata": {},
   "outputs": [
    {
     "name": "stdout",
     "output_type": "stream",
     "text": [
      "\n",
      "--- 4. Imputación de Valores Faltantes en 'trastorno_sueno' ---\n",
      "Valores faltantes en 'trastorno_sueno' rellenados con 'None' (sin advertencias).\n"
     ]
    }
   ],
   "source": [
    "# Problema #4: Imputación de Valores Faltantes (¡SOLUCIÓN A LA FUTURE WARNING!)\n",
    "print(\"\\n--- 4. Imputación de Valores Faltantes en 'trastorno_sueno' ---\")\n",
    "\n",
    "columna_nulos = 'trastorno_sueno'\n",
    "\n",
    "# CORRECCIÓN: Se usa asignación directa para evitar la FutureWarning y el chained assignment.\n",
    "dfLifestyle[columna_nulos] = dfLifestyle[columna_nulos].fillna('None')\n",
    "\n",
    "print(f\"Valores faltantes en '{columna_nulos}' rellenados con 'None' (sin advertencias).\")"
   ]
  },
  {
   "cell_type": "markdown",
   "id": "19efc50f",
   "metadata": {},
   "source": [
    "## Inconsistencia Categórica"
   ]
  },
  {
   "cell_type": "markdown",
   "id": "ab4c2177",
   "metadata": {},
   "source": [
    "### Problema # 5 y 6: Inconsistencia Categórica"
   ]
  },
  {
   "cell_type": "code",
   "execution_count": 6,
   "id": "c9be6bc5",
   "metadata": {},
   "outputs": [
    {
     "name": "stdout",
     "output_type": "stream",
     "text": [
      "\n",
      "--- 5. y 6. Unificación y Estandarización de Variables Categóricas ---\n",
      "-> Categorías de IMC: 'Normal Weight' unificada a 'Normal'.\n",
      "-> Categorías de Trastorno del Sueño: Estandarizadas y traducidas.\n",
      "Valores únicos finales: ['ninguno' 'apnea del sueno' 'insomnio']\n",
      "Categorías corregidas.\n"
     ]
    }
   ],
   "source": [
    "# Problema #5 y #6: Unificación y Estandarización de Categorías\n",
    "print(\"\\n--- 5. y 6. Unificación y Estandarización de Variables Categóricas ---\")\n",
    "\n",
    "# a) Problema #5: Unificación de 'categoria_imc'\n",
    "dfLifestyle['categoria_imc'] = dfLifestyle['categoria_imc'].replace('Normal Weight', 'Normal')\n",
    "print(\"-> Categorías de IMC: 'Normal Weight' unificada a 'Normal'.\")\n",
    "\n",
    "# b) Problema #6: Estandarización de 'trastorno_sueno'\n",
    "columna_trastorno = 'trastorno_sueno'\n",
    "dfLifestyle[columna_trastorno] = dfLifestyle[columna_trastorno].str.lower().str.strip()\n",
    "mapeo_trastornos = {'sleep apnea': 'apnea del sueno', 'insomnia': 'insomnio', 'none': 'ninguno'}\n",
    "dfLifestyle[columna_trastorno] = dfLifestyle[columna_trastorno].replace(mapeo_trastornos)\n",
    "\n",
    "print(\"-> Categorías de Trastorno del Sueño: Estandarizadas y traducidas.\")\n",
    "print(f\"Valores únicos finales: {dfLifestyle[columna_trastorno].unique()}\")\n",
    "print(\"Categorías corregidas.\")"
   ]
  },
  {
   "cell_type": "markdown",
   "id": "86647f7d",
   "metadata": {},
   "source": [
    "### Problema # 7: Ajuste de Granularidad Numérica"
   ]
  },
  {
   "cell_type": "code",
   "execution_count": 7,
   "id": "c4097c7a",
   "metadata": {},
   "outputs": [
    {
     "name": "stdout",
     "output_type": "stream",
     "text": [
      "\n",
      "--- 7. Ajuste de Granularidad en 'duracion_sueno_horas' ---\n",
      "Columna 'duracion_sueno_horas' redondeada a un decimal.\n"
     ]
    }
   ],
   "source": [
    "# Problema #7: Ajuste de Granularidad Numérica\n",
    "print(\"\\n--- 7. Ajuste de Granularidad en 'duracion_sueno_horas' ---\")\n",
    "\n",
    "columna_granularidad = 'duracion_sueno_horas'\n",
    "\n",
    "# Se aplica un redondeo a un decimal para consistencia.\n",
    "dfLifestyle[columna_granularidad] = dfLifestyle[columna_granularidad].round(1)\n",
    "\n",
    "print(f\"Columna '{columna_granularidad}' redondeada a un decimal.\")"
   ]
  },
  {
   "cell_type": "markdown",
   "id": "d6acd7cf",
   "metadata": {},
   "source": [
    "## Verificación Final"
   ]
  },
  {
   "cell_type": "code",
   "execution_count": 41,
   "id": "6cf64bd0",
   "metadata": {},
   "outputs": [
    {
     "name": "stdout",
     "output_type": "stream",
     "text": [
      "\n",
      "=======================================================\n",
      "  VERIFICACIÓN FINAL: DATAFRAME LISTO PARA ANÁLISIS\n",
      "=======================================================\n",
      "\n",
      "<class 'pandas.core.frame.DataFrame'>\n",
      "Index: 132 entries, 1 to 367\n",
      "Data columns (total 13 columns):\n",
      " #   Column                        Non-Null Count  Dtype  \n",
      "---  ------                        --------------  -----  \n",
      " 0   genero                        132 non-null    object \n",
      " 1   edad                          132 non-null    int64  \n",
      " 2   ocupacion                     132 non-null    object \n",
      " 3   duracion_sueno_horas          132 non-null    float64\n",
      " 4   calidad_sueno_escala_1_10     132 non-null    int64  \n",
      " 5   actividad_fisica_minutos_dia  132 non-null    int64  \n",
      " 6   nivel_estres_escala_1_10      132 non-null    int64  \n",
      " 7   categoria_imc                 132 non-null    object \n",
      " 8   ritmo_cardiaco_bpm            132 non-null    int64  \n",
      " 9   pasos_diarios                 132 non-null    int64  \n",
      " 10  trastorno_sueno               132 non-null    object \n",
      " 11  presion_sistolica             132 non-null    int64  \n",
      " 12  presion_diastolica            132 non-null    int64  \n",
      "dtypes: float64(1), int64(8), object(4)\n",
      "memory usage: 14.4+ KB\n",
      "\n",
      "--- Muestra Final del DataFrame Limpio ---\n",
      "\n",
      "          genero  edad             ocupacion  duracion_sueno_horas  \\\n",
      "Person ID                                                            \n",
      "1           Male    27     Software Engineer                   6.1   \n",
      "2           Male    28                Doctor                   6.2   \n",
      "4           Male    28  Sales Representative                   5.9   \n",
      "6           Male    28     Software Engineer                   5.9   \n",
      "7           Male    29               Teacher                   6.3   \n",
      "\n",
      "           calidad_sueno_escala_1_10  actividad_fisica_minutos_dia  \\\n",
      "Person ID                                                            \n",
      "1                                  6                            42   \n",
      "2                                  6                            60   \n",
      "4                                  4                            30   \n",
      "6                                  4                            30   \n",
      "7                                  6                            40   \n",
      "\n",
      "           nivel_estres_escala_1_10 categoria_imc  ritmo_cardiaco_bpm  \\\n",
      "Person ID                                                               \n",
      "1                                 6    Overweight                  77   \n",
      "2                                 8        Normal                  75   \n",
      "4                                 8         Obese                  85   \n",
      "6                                 8         Obese                  85   \n",
      "7                                 7         Obese                  82   \n",
      "\n",
      "           pasos_diarios  trastorno_sueno  presion_sistolica  \\\n",
      "Person ID                                                      \n",
      "1                   4200          ninguno                126   \n",
      "2                  10000          ninguno                125   \n",
      "4                   3000  apnea del sueno                140   \n",
      "6                   3000         insomnio                140   \n",
      "7                   3500         insomnio                140   \n",
      "\n",
      "           presion_diastolica  \n",
      "Person ID                      \n",
      "1                          83  \n",
      "2                          80  \n",
      "4                          90  \n",
      "6                          90  \n",
      "7                          90  \n",
      "\n",
      "El proceso de limpieza integral (7 problemáticas) ha sido completado con éxito y sin advertencias.\n"
     ]
    }
   ],
   "source": [
    "# Verificación Final del Estado del DataFrame\n",
    "print(\"\\n=======================================================\")\n",
    "print(\"  VERIFICACIÓN FINAL: DATAFRAME LISTO PARA ANÁLISIS\")\n",
    "print(\"=======================================================\\n\")\n",
    "\n",
    "# Se verifica que no queden valores nulos y que los tipos de datos sean los esperados.\n",
    "dfLifestyle.info()\n",
    "\n",
    "print(\"\\n--- Muestra Final del DataFrame Limpio ---\\n\")\n",
    "# Muestra de las primeras filas con las columnas ya limpias y transformadas.\n",
    "print(dfLifestyle.head())\n",
    "\n",
    "print(\"\\nEl proceso de limpieza integral (7 problemáticas) ha sido completado con éxito y sin advertencias.\")"
   ]
  }
 ],
 "metadata": {
  "kernelspec": {
   "display_name": "Python 3",
   "language": "python",
   "name": "python3"
  },
  "language_info": {
   "codemirror_mode": {
    "name": "ipython",
    "version": 3
   },
   "file_extension": ".py",
   "mimetype": "text/x-python",
   "name": "python",
   "nbconvert_exporter": "python",
   "pygments_lexer": "ipython3",
   "version": "3.13.7"
  }
 },
 "nbformat": 4,
 "nbformat_minor": 5
}
